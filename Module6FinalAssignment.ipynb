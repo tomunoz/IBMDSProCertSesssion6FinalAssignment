{
 "cells": [
  {
   "cell_type": "markdown",
   "id": "97f9d0cc-db91-40dd-a367-43ec077b8ed9",
   "metadata": {},
   "source": [
    "# Data Science Tools and Ecosystem"
   ]
  },
  {
   "cell_type": "markdown",
   "id": "3de741ed-ff94-4e0b-978c-de1674f0f42a",
   "metadata": {},
   "source": [
    "#### In this notebook, Data Science Tools and Ecosystem are summarized."
   ]
  },
  {
   "cell_type": "markdown",
   "id": "a6856e75-4ec0-4824-9a4c-d5e7a6ec3b0b",
   "metadata": {},
   "source": [
    "### <b>Objectives:</b>\n",
    "\n",
    "<ul>\n",
    "<li>List popular languages for Data Science</li>\n",
    "<li>List commonly used libraries by Data Scientists</li>\n",
    "<li>List data science tools</li>\n",
    "</ul>"
   ]
  },
  {
   "cell_type": "markdown",
   "id": "93121a05-3c3d-4b6d-9635-5a3ea8d15cae",
   "metadata": {},
   "source": [
    "Some of the popular languages that Data Scientists use Are:\n",
    "\n",
    "1. Python\n",
    "2. R\n",
    "3. SQL"
   ]
  },
  {
   "cell_type": "markdown",
   "id": "7a2ecb2b-72ed-4da9-a964-7e5ac932c805",
   "metadata": {},
   "source": [
    "#### Some of the commonly used libraries used by Data Scientists incllude:\n",
    "1. Pandas\n",
    "2. SciKit-learn\n",
    "3. SciPy\n",
    "4. Matplotlib"
   ]
  },
  {
   "cell_type": "markdown",
   "id": "7efd8589-6593-4287-86de-b3630ae1f79e",
   "metadata": {},
   "source": [
    "#### Data Science Tools\n",
    "\n",
    "|Data Science Tools|\n",
    "|-----|\n",
    "|Jupyter Notebook|\n",
    "|R Studio|\n",
    "|Spyder|\n"
   ]
  },
  {
   "cell_type": "markdown",
   "id": "4e8c68e0-1647-4b3a-af73-4fb2761d6f6d",
   "metadata": {},
   "source": [
    "### Below are a few examples of evaluating arithmetic expressions in Python"
   ]
  },
  {
   "cell_type": "markdown",
   "id": "8fb90499-7c69-45f6-ae4c-04f83d115c19",
   "metadata": {},
   "source": [
    "######  This a simple arithmetic expression to mutiply then add integers"
   ]
  },
  {
   "cell_type": "code",
   "execution_count": 1,
   "id": "100a65b3-9773-45c4-b79e-3e8f25c96d17",
   "metadata": {},
   "outputs": [
    {
     "data": {
      "text/plain": [
       "17"
      ]
     },
     "execution_count": 1,
     "metadata": {},
     "output_type": "execute_result"
    }
   ],
   "source": [
    "(3*4)+5"
   ]
  },
  {
   "cell_type": "markdown",
   "id": "521165fc-5ba5-41c4-8409-e542673e47bc",
   "metadata": {},
   "source": [
    "###### This will convert 200 minutes to hours by diving by 60"
   ]
  },
  {
   "cell_type": "code",
   "execution_count": 3,
   "id": "95ddd996-5a38-43a6-80a2-05dbf8048e5c",
   "metadata": {},
   "outputs": [],
   "source": [
    "minutes = 200\n",
    "minutes_in_an_hour = 60\n"
   ]
  },
  {
   "cell_type": "code",
   "execution_count": 4,
   "id": "96237194-72dd-440e-a17c-0aef2f188de5",
   "metadata": {},
   "outputs": [],
   "source": [
    "hours = minutes / minutes_in_an_hour"
   ]
  },
  {
   "cell_type": "code",
   "execution_count": 5,
   "id": "02b82144-cf0d-4d46-b9c3-ec0bb080c5b4",
   "metadata": {},
   "outputs": [
    {
     "data": {
      "text/plain": [
       "3.3333333333333335"
      ]
     },
     "execution_count": 5,
     "metadata": {},
     "output_type": "execute_result"
    }
   ],
   "source": [
    "hours"
   ]
  },
  {
   "cell_type": "markdown",
   "id": "450ae975-f4a5-40a0-a02e-abadafbb2771",
   "metadata": {},
   "source": [
    "## Author\n",
    "Tom Muñoz"
   ]
  },
  {
   "cell_type": "code",
   "execution_count": null,
   "id": "e42dc195-e110-4bc0-8f87-5a22de8764eb",
   "metadata": {},
   "outputs": [],
   "source": []
  }
 ],
 "metadata": {
  "kernelspec": {
   "display_name": "Python 3 (ipykernel)",
   "language": "python",
   "name": "python3"
  },
  "language_info": {
   "codemirror_mode": {
    "name": "ipython",
    "version": 3
   },
   "file_extension": ".py",
   "mimetype": "text/x-python",
   "name": "python",
   "nbconvert_exporter": "python",
   "pygments_lexer": "ipython3",
   "version": "3.12.0"
  }
 },
 "nbformat": 4,
 "nbformat_minor": 5
}
